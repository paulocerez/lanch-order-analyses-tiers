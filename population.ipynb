{
 "cells": [
  {
   "cell_type": "markdown",
   "metadata": {},
   "source": []
  },
  {
   "cell_type": "code",
   "execution_count": 5,
   "metadata": {},
   "outputs": [
    {
     "name": "stdout",
     "output_type": "stream",
     "text": [
      "                           Name       2022           Bundesland\n",
      "0                        Berlin  3.755.251               Berlin\n",
      "1                       Hamburg  1.892.122              Hamburg\n",
      "2                       München  1.512.491               Bayern\n",
      "3                          Köln  1.084.831  Nordrhein-Westfalen\n",
      "4             Frankfurt am Main    773.068               Hessen\n",
      "..                          ...        ...                  ...\n",
      "706  Neunkirchen-Seelscheid⁠(*)     20.109  Nordrhein-Westfalen\n",
      "707                   Oberkirch     20.092    Baden-Württemberg\n",
      "708                Schmalkalden     20.065            Thüringen\n",
      "709                    Tettnang     20.037    Baden-Württemberg\n",
      "710                        Name       2022           Bundesland\n",
      "\n",
      "[711 rows x 3 columns]\n"
     ]
    },
    {
     "name": "stderr",
     "output_type": "stream",
     "text": [
      "b'Skipping line 59: expected 10 fields, saw 24\\n'\n"
     ]
    }
   ],
   "source": [
    "# from sklearn.cluster import KMeans\n",
    "import pandas as pd\n",
    "\n",
    "# skipping rows that have a different number of fields (columns) than expected\n",
    "df = pd.read_csv('population.csv', delimiter=\",\", error_bad_lines=False)\n",
    "\n",
    "df = df[['Name', '2022', 'Bundesland']]\n",
    "\n",
    "def categorize_city(number_of_residents):\n",
    "\tif number_of_residents > 1000000:\n",
    "    \treturn 'Tier 1'\n",
    "\telif number_of_residents > 400000:\n",
    "    \treturn 'Tier 2'\n",
    "\telif number_of_residents > 100000:\n",
    "\t\treturn 'Tier 3'\n",
    "    else:\n",
    "    \treturn 'Tier 4'\n",
    "\n",
    "\n",
    "print(df)"
   ]
  },
  {
   "cell_type": "markdown",
   "metadata": {},
   "source": []
  },
  {
   "cell_type": "code",
   "execution_count": null,
   "metadata": {},
   "outputs": [],
   "source": []
  }
 ],
 "metadata": {
  "kernelspec": {
   "display_name": "base",
   "language": "python",
   "name": "python3"
  },
  "language_info": {
   "codemirror_mode": {
    "name": "ipython",
    "version": 3
   },
   "file_extension": ".py",
   "mimetype": "text/x-python",
   "name": "python",
   "nbconvert_exporter": "python",
   "pygments_lexer": "ipython3",
   "version": "3.8.8"
  }
 },
 "nbformat": 4,
 "nbformat_minor": 2
}
